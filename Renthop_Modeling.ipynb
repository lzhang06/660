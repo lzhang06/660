{
 "cells": [
  {
   "cell_type": "code",
   "execution_count": 9,
   "metadata": {
    "collapsed": false,
    "scrolled": false
   },
   "outputs": [
    {
     "data": {
      "text/html": [
       "<script>requirejs.config({paths: { 'plotly': ['https://cdn.plot.ly/plotly-latest.min']},});if(!window.Plotly) {{require(['plotly'],function(plotly) {window.Plotly=plotly;});}}</script>"
      ],
      "text/vnd.plotly.v1+html": [
       "<script>requirejs.config({paths: { 'plotly': ['https://cdn.plot.ly/plotly-latest.min']},});if(!window.Plotly) {{require(['plotly'],function(plotly) {window.Plotly=plotly;});}}</script>"
      ]
     },
     "metadata": {},
     "output_type": "display_data"
    }
   ],
   "source": [
    "import numpy as np \n",
    "import pandas as pd \n",
    "\n",
    "import matplotlib.pyplot as plt\n",
    "% matplotlib inline\n",
    "import seaborn as sns\n",
    "sns.set(style=\"whitegrid\", color_codes=True)\n",
    "sns.set(font_scale=1)\n",
    "\n",
    "import plotly.plotly as py\n",
    "import plotly.graph_objs as go\n",
    "from plotly import tools\n",
    "\n",
    "\n",
    "from plotly.offline import download_plotlyjs, init_notebook_mode, iplot\n",
    "init_notebook_mode(connected=True)\n",
    "\n",
    "import sklearn\n",
    "import statsmodels.api as sm\n",
    "from sklearn.ensemble import BaggingRegressor, RandomForestRegressor, GradientBoostingRegressor, AdaBoostRegressor\n",
    "import xgboost as xgb\n",
    "%matplotlib inline\n"
   ]
  },
  {
   "cell_type": "code",
   "execution_count": 10,
   "metadata": {
    "collapsed": false
   },
   "outputs": [
    {
     "name": "stderr",
     "output_type": "stream",
     "text": [
      "/Users/admin/anaconda/lib/python3.6/site-packages/IPython/core/interactiveshell.py:2717: DtypeWarning:\n",
      "\n",
      "Columns (4) have mixed types. Specify dtype option on import or set low_memory=False.\n",
      "\n"
     ]
    },
    {
     "data": {
      "text/html": [
       "<div>\n",
       "<table border=\"1\" class=\"dataframe\">\n",
       "  <thead>\n",
       "    <tr style=\"text-align: right;\">\n",
       "      <th></th>\n",
       "      <th>Amenities</th>\n",
       "      <th>No Fee</th>\n",
       "      <th>bathroom</th>\n",
       "      <th>bedroom</th>\n",
       "      <th>description</th>\n",
       "      <th>expert</th>\n",
       "      <th>hopscore</th>\n",
       "      <th>listing_id</th>\n",
       "      <th>median_price</th>\n",
       "      <th>neighborhoods</th>\n",
       "      <th>num_transportation</th>\n",
       "      <th>photo</th>\n",
       "      <th>price</th>\n",
       "      <th>street_address</th>\n",
       "      <th>transportation</th>\n",
       "    </tr>\n",
       "  </thead>\n",
       "  <tbody>\n",
       "    <tr>\n",
       "      <th>0</th>\n",
       "      <td>['No Fee', 'Swimming Pool', 'Roof Deck', 'Dini...</td>\n",
       "      <td>1</td>\n",
       "      <td>1</td>\n",
       "      <td>1</td>\n",
       "      <td>\\nwith spectacular 360 degree views * Elegant ...</td>\n",
       "      <td>0</td>\n",
       "      <td>87.1</td>\n",
       "      <td>9022376</td>\n",
       "      <td>$2,550</td>\n",
       "      <td>Hell's Kitchen, Midtown Manhattan, Manhattan</td>\n",
       "      <td>20</td>\n",
       "      <td>['https://photos.renthop.com/7/9022376_8caf98e...</td>\n",
       "      <td>$2,300</td>\n",
       "      <td>W 42 St.</td>\n",
       "      <td>['7', '1', '2', '3', 'A', 'C', 'E', 'N', 'Q', ...</td>\n",
       "    </tr>\n",
       "    <tr>\n",
       "      <th>1</th>\n",
       "      <td>['No Fee', 'Laundry In Unit', 'Cats Allowed', ...</td>\n",
       "      <td>1</td>\n",
       "      <td>1</td>\n",
       "      <td>2</td>\n",
       "      <td>\\nBeautiful Renovated 2 Bedroom with Lots of C...</td>\n",
       "      <td>Upper East Side Expert</td>\n",
       "      <td>87.1</td>\n",
       "      <td>8859339</td>\n",
       "      <td>$2,975</td>\n",
       "      <td>Yorkville, Upper East Side, Upper Manhattan, M...</td>\n",
       "      <td>5</td>\n",
       "      <td>['https://photos.renthop.com/7/8859339_6caa061...</td>\n",
       "      <td>$3,484</td>\n",
       "      <td>E 81st St.</td>\n",
       "      <td>['N', 'Q', 'T', '6', 'F']</td>\n",
       "    </tr>\n",
       "    <tr>\n",
       "      <th>2</th>\n",
       "      <td>['No Fee', 'Doorman', 'Elevator', 'Laundry In ...</td>\n",
       "      <td>1</td>\n",
       "      <td>2</td>\n",
       "      <td>2</td>\n",
       "      <td>\\nSUPERB Location! Fabulous Top of the line Lu...</td>\n",
       "      <td>Upper East Side Expert</td>\n",
       "      <td>87.1</td>\n",
       "      <td>8765006</td>\n",
       "      <td>$5,525</td>\n",
       "      <td>Upper East Side, Upper Manhattan, Manhattan</td>\n",
       "      <td>14</td>\n",
       "      <td>['https://photos.renthop.com/7/8765006_e1b9b25...</td>\n",
       "      <td>$6,500</td>\n",
       "      <td>201 East 69 Street</td>\n",
       "      <td>['6', 'N', 'Q', 'T', 'F', '4', '5', '6', 'N', ...</td>\n",
       "    </tr>\n",
       "    <tr>\n",
       "      <th>3</th>\n",
       "      <td>['No Fee', 'Floorplans Available', 'Doorman', ...</td>\n",
       "      <td>1</td>\n",
       "      <td>1</td>\n",
       "      <td>1</td>\n",
       "      <td>\\nBRAND NEW LUXURY BUILDING - DOWNTOWN BROOKLY...</td>\n",
       "      <td>0</td>\n",
       "      <td>87.1</td>\n",
       "      <td>8817639</td>\n",
       "      <td>$2,525</td>\n",
       "      <td>Fort Greene, Northwestern Brooklyn, Brooklyn</td>\n",
       "      <td>18</td>\n",
       "      <td>['https://photos.renthop.com/7/8817639_d5e90ac...</td>\n",
       "      <td>$2,441</td>\n",
       "      <td>Ashland Place</td>\n",
       "      <td>['2', '3', '4', '5', 'N', 'Q', 'R', 'B', 'D', ...</td>\n",
       "    </tr>\n",
       "    <tr>\n",
       "      <th>4</th>\n",
       "      <td>['No Fee', 'Doorman', 'Elevator', 'Fitness Cen...</td>\n",
       "      <td>1</td>\n",
       "      <td>1</td>\n",
       "      <td>1</td>\n",
       "      <td>\\nFor Quickest Access and a Custom Tailored Pr...</td>\n",
       "      <td>0</td>\n",
       "      <td>87.1</td>\n",
       "      <td>8751507</td>\n",
       "      <td>$2,600</td>\n",
       "      <td>Financial District, Downtown Manhattan, Manhattan</td>\n",
       "      <td>15</td>\n",
       "      <td>['https://photos.renthop.com/7/8751507_7c3356b...</td>\n",
       "      <td>$2,850</td>\n",
       "      <td>Pine Street</td>\n",
       "      <td>['2', '3', 'J', 'Z', '2', '3', 'A', 'C', '4', ...</td>\n",
       "    </tr>\n",
       "  </tbody>\n",
       "</table>\n",
       "</div>"
      ],
      "text/plain": [
       "                                           Amenities  No Fee  bathroom  \\\n",
       "0  ['No Fee', 'Swimming Pool', 'Roof Deck', 'Dini...       1         1   \n",
       "1  ['No Fee', 'Laundry In Unit', 'Cats Allowed', ...       1         1   \n",
       "2  ['No Fee', 'Doorman', 'Elevator', 'Laundry In ...       1         2   \n",
       "3  ['No Fee', 'Floorplans Available', 'Doorman', ...       1         1   \n",
       "4  ['No Fee', 'Doorman', 'Elevator', 'Fitness Cen...       1         1   \n",
       "\n",
       "  bedroom                                        description  \\\n",
       "0       1  \\nwith spectacular 360 degree views * Elegant ...   \n",
       "1       2  \\nBeautiful Renovated 2 Bedroom with Lots of C...   \n",
       "2       2  \\nSUPERB Location! Fabulous Top of the line Lu...   \n",
       "3       1  \\nBRAND NEW LUXURY BUILDING - DOWNTOWN BROOKLY...   \n",
       "4       1  \\nFor Quickest Access and a Custom Tailored Pr...   \n",
       "\n",
       "                   expert  hopscore  listing_id median_price  \\\n",
       "0                       0      87.1     9022376       $2,550   \n",
       "1  Upper East Side Expert      87.1     8859339       $2,975   \n",
       "2  Upper East Side Expert      87.1     8765006       $5,525   \n",
       "3                       0      87.1     8817639       $2,525   \n",
       "4                       0      87.1     8751507       $2,600   \n",
       "\n",
       "                                       neighborhoods  num_transportation  \\\n",
       "0       Hell's Kitchen, Midtown Manhattan, Manhattan                  20   \n",
       "1  Yorkville, Upper East Side, Upper Manhattan, M...                   5   \n",
       "2        Upper East Side, Upper Manhattan, Manhattan                  14   \n",
       "3       Fort Greene, Northwestern Brooklyn, Brooklyn                  18   \n",
       "4  Financial District, Downtown Manhattan, Manhattan                  15   \n",
       "\n",
       "                                               photo   price  \\\n",
       "0  ['https://photos.renthop.com/7/9022376_8caf98e...  $2,300   \n",
       "1  ['https://photos.renthop.com/7/8859339_6caa061...  $3,484   \n",
       "2  ['https://photos.renthop.com/7/8765006_e1b9b25...  $6,500   \n",
       "3  ['https://photos.renthop.com/7/8817639_d5e90ac...  $2,441   \n",
       "4  ['https://photos.renthop.com/7/8751507_7c3356b...  $2,850   \n",
       "\n",
       "       street_address                                     transportation  \n",
       "0            W 42 St.  ['7', '1', '2', '3', 'A', 'C', 'E', 'N', 'Q', ...  \n",
       "1          E 81st St.                          ['N', 'Q', 'T', '6', 'F']  \n",
       "2  201 East 69 Street  ['6', 'N', 'Q', 'T', 'F', '4', '5', '6', 'N', ...  \n",
       "3       Ashland Place  ['2', '3', '4', '5', 'N', 'Q', 'R', 'B', 'D', ...  \n",
       "4         Pine Street  ['2', '3', 'J', 'Z', '2', '3', 'A', 'C', '4', ...  "
      ]
     },
     "execution_count": 10,
     "metadata": {},
     "output_type": "execute_result"
    }
   ],
   "source": [
    "house = pd.read_csv('/Users/admin/Pictures/Group1/data/Renthop_rent_house_data.csv',index_col = 0)\n",
    "house.head()"
   ]
  },
  {
   "cell_type": "markdown",
   "metadata": {},
   "source": [
    "# data processing for modeling"
   ]
  },
  {
   "cell_type": "code",
   "execution_count": 11,
   "metadata": {
    "collapsed": true
   },
   "outputs": [],
   "source": [
    "for col_name in ['price','median_price']:#, 'median_price'\n",
    "    house[col_name] = house[col_name].str.replace('$', '')\n",
    "    house[col_name] = house[col_name].str.replace(',', '')\n",
    "    house[col_name] = house[col_name].astype(float)"
   ]
  },
  {
   "cell_type": "code",
   "execution_count": 12,
   "metadata": {
    "collapsed": false
   },
   "outputs": [],
   "source": [
    "house = house[house.bedroom != '*']\n",
    "house = house[house.bedroom != ' ']\n",
    "house['bedroom'] = house['bedroom'].astype(float)\n",
    "\n",
    "house['bathroom'] = house['bathroom'].astype(float)"
   ]
  },
  {
   "cell_type": "code",
   "execution_count": 13,
   "metadata": {
    "collapsed": false
   },
   "outputs": [],
   "source": [
    "# import numpy as np\n",
    "# #log transfrom the target\n",
    "# house[\"logprice\"] = np.log1p(house['price'])"
   ]
  },
  {
   "cell_type": "code",
   "execution_count": 14,
   "metadata": {
    "collapsed": false
   },
   "outputs": [],
   "source": [
    "# house['logprice']"
   ]
  },
  {
   "cell_type": "code",
   "execution_count": 15,
   "metadata": {
    "collapsed": false
   },
   "outputs": [],
   "source": [
    "# from scipy.stats import skew\n",
    "# # log transform skewed numeric features\n",
    "# numeric_features = house.dtypes[house.dtypes != 'object'].index\n",
    "\n",
    "# skewed_features = house[numeric_features].apply(lambda x: skew(x.dropna())) #datafram.dropna()\n",
    "# skewed_features = skewed_features[skewed_features> 0.75]\n",
    "# skewed_features = skewed_features.index\n",
    "\n",
    "# house[skewed_features] = np.log1p(house[skewed_features])"
   ]
  },
  {
   "cell_type": "code",
   "execution_count": 16,
   "metadata": {
    "collapsed": true
   },
   "outputs": [],
   "source": [
    "closest_neighborhoods =[]\n",
    "neighborhooh_range = house['neighborhoods'].tolist()\n",
    "\n",
    "for i in range(len(neighborhooh_range)):\n",
    "    try:\n",
    "        closest_neighborhoods.append(neighborhooh_range[i].split(',')[0])\n",
    "    except:   \n",
    "        closest_neighborhoods.append('NA')\n",
    "    \n",
    "house['closest_neighborhoods'] = closest_neighborhoods"
   ]
  },
  {
   "cell_type": "code",
   "execution_count": 17,
   "metadata": {
    "collapsed": false,
    "scrolled": true
   },
   "outputs": [],
   "source": [
    "#Get Dummies for the Neighborhoods\n",
    "house_with_dummies= pd.get_dummies(house, prefix='Neighborhoods_', columns=['closest_neighborhoods'])"
   ]
  },
  {
   "cell_type": "code",
   "execution_count": 18,
   "metadata": {
    "collapsed": false
   },
   "outputs": [
    {
     "data": {
      "text/plain": [
       "0        2300.0\n",
       "1        3484.0\n",
       "2        6500.0\n",
       "3        2441.0\n",
       "4        2850.0\n",
       "5        2749.0\n",
       "6        2500.0\n",
       "7        3474.0\n",
       "8        2050.0\n",
       "9        4385.0\n",
       "10       3500.0\n",
       "11       2890.0\n",
       "12       2650.0\n",
       "13       1800.0\n",
       "14       3200.0\n",
       "15       3550.0\n",
       "16       2550.0\n",
       "17       2700.0\n",
       "18       7000.0\n",
       "19       2500.0\n",
       "20       2550.0\n",
       "21       2800.0\n",
       "22       2750.0\n",
       "23       4758.0\n",
       "24       4695.0\n",
       "25       3900.0\n",
       "26       2400.0\n",
       "27       3500.0\n",
       "28       3725.0\n",
       "29       4300.0\n",
       "          ...  \n",
       "74352    4445.0\n",
       "74353    3200.0\n",
       "74354    3495.0\n",
       "74355    3575.0\n",
       "74356    2950.0\n",
       "74357    3795.0\n",
       "74358    1795.0\n",
       "74359    2900.0\n",
       "74360    3500.0\n",
       "74361    2650.0\n",
       "74362    3700.0\n",
       "74363    3970.0\n",
       "74364    2400.0\n",
       "74365    6137.0\n",
       "74366    5450.0\n",
       "74367    4950.0\n",
       "74368    2475.0\n",
       "74369    3590.0\n",
       "74370    2325.0\n",
       "74371    3853.0\n",
       "74372    3872.0\n",
       "74373    5495.0\n",
       "74374    2929.0\n",
       "74375    3625.0\n",
       "74376    3650.0\n",
       "74377    2495.0\n",
       "74378    5295.0\n",
       "74379    3819.0\n",
       "74380    2695.0\n",
       "74381    4107.0\n",
       "Name: price, dtype: float64"
      ]
     },
     "execution_count": 18,
     "metadata": {},
     "output_type": "execute_result"
    }
   ],
   "source": [
    "house_with_dummies['price']"
   ]
  },
  {
   "cell_type": "code",
   "execution_count": 19,
   "metadata": {
    "collapsed": false
   },
   "outputs": [],
   "source": [
    "house_with_dummies.drop('Amenities', axis = 1, inplace = True, errors = 'ignore')\n",
    "house_with_dummies.drop('description', axis = 1, inplace = True, errors = 'ignore')\n",
    "house_with_dummies.drop('expert', axis = 1, inplace = True, errors = 'ignore')\n",
    "house_with_dummies.drop('neighborhoods', axis = 1, inplace = True, errors = 'ignore')\n",
    "house_with_dummies.drop('listing_id', axis = 1, inplace = True, errors = 'ignore')\n",
    "house_with_dummies.drop('photo', axis = 1, inplace = True, errors = 'ignore')\n",
    "house_with_dummies.drop('street_address', axis = 1, inplace = True, errors = 'ignore')\n",
    "house_with_dummies.drop('transportation', axis = 1, inplace = True, errors = 'ignore')"
   ]
  },
  {
   "cell_type": "code",
   "execution_count": 20,
   "metadata": {
    "collapsed": false
   },
   "outputs": [
    {
     "data": {
      "text/html": [
       "<div>\n",
       "<table border=\"1\" class=\"dataframe\">\n",
       "  <thead>\n",
       "    <tr style=\"text-align: right;\">\n",
       "      <th></th>\n",
       "      <th>No Fee</th>\n",
       "      <th>bathroom</th>\n",
       "      <th>bedroom</th>\n",
       "      <th>hopscore</th>\n",
       "      <th>median_price</th>\n",
       "      <th>num_transportation</th>\n",
       "      <th>price</th>\n",
       "      <th>Neighborhoods__Albemarle and Kenmore Terraces</th>\n",
       "      <th>Neighborhoods__Alphabet City</th>\n",
       "      <th>Neighborhoods__Amagansett</th>\n",
       "      <th>...</th>\n",
       "      <th>Neighborhoods__West Orange</th>\n",
       "      <th>Neighborhoods__West Side</th>\n",
       "      <th>Neighborhoods__West Town</th>\n",
       "      <th>Neighborhoods__West Village</th>\n",
       "      <th>Neighborhoods__Williamsburg</th>\n",
       "      <th>Neighborhoods__Windsor Terrace</th>\n",
       "      <th>Neighborhoods__Wingate</th>\n",
       "      <th>Neighborhoods__Woodhaven</th>\n",
       "      <th>Neighborhoods__Woodside</th>\n",
       "      <th>Neighborhoods__Yorkville</th>\n",
       "    </tr>\n",
       "  </thead>\n",
       "  <tbody>\n",
       "    <tr>\n",
       "      <th>0</th>\n",
       "      <td>1</td>\n",
       "      <td>1.0</td>\n",
       "      <td>1.0</td>\n",
       "      <td>87.1</td>\n",
       "      <td>2550.0</td>\n",
       "      <td>20</td>\n",
       "      <td>2300.0</td>\n",
       "      <td>0</td>\n",
       "      <td>0</td>\n",
       "      <td>0</td>\n",
       "      <td>...</td>\n",
       "      <td>0</td>\n",
       "      <td>0</td>\n",
       "      <td>0</td>\n",
       "      <td>0</td>\n",
       "      <td>0</td>\n",
       "      <td>0</td>\n",
       "      <td>0</td>\n",
       "      <td>0</td>\n",
       "      <td>0</td>\n",
       "      <td>0</td>\n",
       "    </tr>\n",
       "    <tr>\n",
       "      <th>1</th>\n",
       "      <td>1</td>\n",
       "      <td>1.0</td>\n",
       "      <td>2.0</td>\n",
       "      <td>87.1</td>\n",
       "      <td>2975.0</td>\n",
       "      <td>5</td>\n",
       "      <td>3484.0</td>\n",
       "      <td>0</td>\n",
       "      <td>0</td>\n",
       "      <td>0</td>\n",
       "      <td>...</td>\n",
       "      <td>0</td>\n",
       "      <td>0</td>\n",
       "      <td>0</td>\n",
       "      <td>0</td>\n",
       "      <td>0</td>\n",
       "      <td>0</td>\n",
       "      <td>0</td>\n",
       "      <td>0</td>\n",
       "      <td>0</td>\n",
       "      <td>1</td>\n",
       "    </tr>\n",
       "    <tr>\n",
       "      <th>2</th>\n",
       "      <td>1</td>\n",
       "      <td>2.0</td>\n",
       "      <td>2.0</td>\n",
       "      <td>87.1</td>\n",
       "      <td>5525.0</td>\n",
       "      <td>14</td>\n",
       "      <td>6500.0</td>\n",
       "      <td>0</td>\n",
       "      <td>0</td>\n",
       "      <td>0</td>\n",
       "      <td>...</td>\n",
       "      <td>0</td>\n",
       "      <td>0</td>\n",
       "      <td>0</td>\n",
       "      <td>0</td>\n",
       "      <td>0</td>\n",
       "      <td>0</td>\n",
       "      <td>0</td>\n",
       "      <td>0</td>\n",
       "      <td>0</td>\n",
       "      <td>0</td>\n",
       "    </tr>\n",
       "    <tr>\n",
       "      <th>3</th>\n",
       "      <td>1</td>\n",
       "      <td>1.0</td>\n",
       "      <td>1.0</td>\n",
       "      <td>87.1</td>\n",
       "      <td>2525.0</td>\n",
       "      <td>18</td>\n",
       "      <td>2441.0</td>\n",
       "      <td>0</td>\n",
       "      <td>0</td>\n",
       "      <td>0</td>\n",
       "      <td>...</td>\n",
       "      <td>0</td>\n",
       "      <td>0</td>\n",
       "      <td>0</td>\n",
       "      <td>0</td>\n",
       "      <td>0</td>\n",
       "      <td>0</td>\n",
       "      <td>0</td>\n",
       "      <td>0</td>\n",
       "      <td>0</td>\n",
       "      <td>0</td>\n",
       "    </tr>\n",
       "    <tr>\n",
       "      <th>4</th>\n",
       "      <td>1</td>\n",
       "      <td>1.0</td>\n",
       "      <td>1.0</td>\n",
       "      <td>87.1</td>\n",
       "      <td>2600.0</td>\n",
       "      <td>15</td>\n",
       "      <td>2850.0</td>\n",
       "      <td>0</td>\n",
       "      <td>0</td>\n",
       "      <td>0</td>\n",
       "      <td>...</td>\n",
       "      <td>0</td>\n",
       "      <td>0</td>\n",
       "      <td>0</td>\n",
       "      <td>0</td>\n",
       "      <td>0</td>\n",
       "      <td>0</td>\n",
       "      <td>0</td>\n",
       "      <td>0</td>\n",
       "      <td>0</td>\n",
       "      <td>0</td>\n",
       "    </tr>\n",
       "  </tbody>\n",
       "</table>\n",
       "<p>5 rows × 288 columns</p>\n",
       "</div>"
      ],
      "text/plain": [
       "   No Fee  bathroom  bedroom  hopscore  median_price  num_transportation  \\\n",
       "0       1       1.0      1.0      87.1        2550.0                  20   \n",
       "1       1       1.0      2.0      87.1        2975.0                   5   \n",
       "2       1       2.0      2.0      87.1        5525.0                  14   \n",
       "3       1       1.0      1.0      87.1        2525.0                  18   \n",
       "4       1       1.0      1.0      87.1        2600.0                  15   \n",
       "\n",
       "    price  Neighborhoods__Albemarle and Kenmore Terraces  \\\n",
       "0  2300.0                                              0   \n",
       "1  3484.0                                              0   \n",
       "2  6500.0                                              0   \n",
       "3  2441.0                                              0   \n",
       "4  2850.0                                              0   \n",
       "\n",
       "   Neighborhoods__Alphabet City  Neighborhoods__Amagansett  \\\n",
       "0                             0                          0   \n",
       "1                             0                          0   \n",
       "2                             0                          0   \n",
       "3                             0                          0   \n",
       "4                             0                          0   \n",
       "\n",
       "             ...             Neighborhoods__West Orange  \\\n",
       "0            ...                                      0   \n",
       "1            ...                                      0   \n",
       "2            ...                                      0   \n",
       "3            ...                                      0   \n",
       "4            ...                                      0   \n",
       "\n",
       "   Neighborhoods__West Side  Neighborhoods__West Town  \\\n",
       "0                         0                         0   \n",
       "1                         0                         0   \n",
       "2                         0                         0   \n",
       "3                         0                         0   \n",
       "4                         0                         0   \n",
       "\n",
       "   Neighborhoods__West Village  Neighborhoods__Williamsburg  \\\n",
       "0                            0                            0   \n",
       "1                            0                            0   \n",
       "2                            0                            0   \n",
       "3                            0                            0   \n",
       "4                            0                            0   \n",
       "\n",
       "   Neighborhoods__Windsor Terrace  Neighborhoods__Wingate  \\\n",
       "0                               0                       0   \n",
       "1                               0                       0   \n",
       "2                               0                       0   \n",
       "3                               0                       0   \n",
       "4                               0                       0   \n",
       "\n",
       "   Neighborhoods__Woodhaven  Neighborhoods__Woodside  Neighborhoods__Yorkville  \n",
       "0                         0                        0                         0  \n",
       "1                         0                        0                         1  \n",
       "2                         0                        0                         0  \n",
       "3                         0                        0                         0  \n",
       "4                         0                        0                         0  \n",
       "\n",
       "[5 rows x 288 columns]"
      ]
     },
     "execution_count": 20,
     "metadata": {},
     "output_type": "execute_result"
    }
   ],
   "source": [
    "house_with_dummies.head()"
   ]
  },
  {
   "cell_type": "code",
   "execution_count": 21,
   "metadata": {
    "collapsed": false
   },
   "outputs": [],
   "source": [
    "#filling Na's with the mean of the column\n",
    "house_with_dummies = house_with_dummies.fillna(house_with_dummies.mean())\n",
    "y = house_with_dummies['price']"
   ]
  },
  {
   "cell_type": "code",
   "execution_count": 22,
   "metadata": {
    "collapsed": false
   },
   "outputs": [],
   "source": [
    "from sklearn.model_selection import train_test_split\n",
    "X_train, X_test, y_train, y_test  = train_test_split(house_with_dummies, y,test_size=0.2,random_state=42)"
   ]
  },
  {
   "cell_type": "code",
   "execution_count": 23,
   "metadata": {
    "collapsed": false
   },
   "outputs": [],
   "source": [
    "X_train = X_train.reset_index(drop= True)\n",
    "y_train = y_train.reset_index(drop= True)\n",
    "X_test = X_test.reset_index(drop= True)\n",
    "y_test = y_test.reset_index(drop= True)"
   ]
  },
  {
   "cell_type": "markdown",
   "metadata": {},
   "source": [
    "# modeling"
   ]
  },
  {
   "cell_type": "code",
   "execution_count": 24,
   "metadata": {
    "collapsed": true
   },
   "outputs": [],
   "source": [
    "#Random Forest\n",
    "from sklearn.metrics import log_loss\n",
    "from sklearn.metrics import accuracy_score\n",
    "from sklearn.metrics import roc_auc_score\n",
    "from sklearn.ensemble import RandomForestRegressor\n",
    "from sklearn.metrics import mean_squared_error\n",
    "from math import sqrt\n",
    "from sklearn.model_selection import KFold\n"
   ]
  },
  {
   "cell_type": "markdown",
   "metadata": {},
   "source": [
    "# model metric"
   ]
  },
  {
   "cell_type": "markdown",
   "metadata": {},
   "source": [
    "# RMSPE"
   ]
  },
  {
   "cell_type": "code",
   "execution_count": 25,
   "metadata": {
    "collapsed": false
   },
   "outputs": [],
   "source": [
    "from sklearn.metrics import mean_squared_error\n",
    "import math\n",
    "def RMSPE(y, y_pred):\n",
    "    return math.sqrt( ((1- y_pred / y)**2).mean() )\n",
    "kf = KFold(n_splits=10, random_state = 123)"
   ]
  },
  {
   "cell_type": "markdown",
   "metadata": {},
   "source": [
    "# Linear regression"
   ]
  },
  {
   "cell_type": "code",
   "execution_count": 18,
   "metadata": {
    "collapsed": false
   },
   "outputs": [],
   "source": [
    "from sklearn.linear_model import LinearRegression\n",
    "lr = LinearRegression()\n",
    "scores_lr = []\n",
    "for train_idx, test_idx in kf.split(X_train.values):\n",
    "    X_train_val, y_train_val = X_train.values[train_idx], y_train.values[train_idx]\n",
    "    X_test_val, y_test_val = X_train.values[test_idx], y_train.values[test_idx]\n",
    "    score =RMSPE(y_test_val , lr.fit(X_train_val, y_train_val).predict(X_test_val))\n",
    "    scores_lr.append(score)"
   ]
  },
  {
   "cell_type": "code",
   "execution_count": 19,
   "metadata": {
    "collapsed": false
   },
   "outputs": [
    {
     "data": {
      "text/plain": [
       "[1.7461678418031652e-08,\n",
       " 3.9639339140335394e-08,\n",
       " 1.0163862710249519e-08,\n",
       " 4.640113063162045e-08,\n",
       " 5.683163508017631e-09,\n",
       " 7.018430348470542e-09,\n",
       " 3.1572039711073503e-09,\n",
       " 2.1275906905541326e-08,\n",
       " 2.274381564507671e-09,\n",
       " 2.8855447206506616e-08]"
      ]
     },
     "execution_count": 19,
     "metadata": {},
     "output_type": "execute_result"
    }
   ],
   "source": [
    "scores_lr"
   ]
  },
  {
   "cell_type": "markdown",
   "metadata": {
    "collapsed": false
   },
   "source": [
    "## Bagging"
   ]
  },
  {
   "cell_type": "code",
   "execution_count": 35,
   "metadata": {
    "collapsed": true
   },
   "outputs": [],
   "source": [
    "bagging = BaggingRegressor(n_estimators=100, max_samples=1.0, max_features=0.4)"
   ]
  },
  {
   "cell_type": "code",
   "execution_count": 36,
   "metadata": {
    "collapsed": true
   },
   "outputs": [],
   "source": [
    "scores_bagging = []\n",
    "kf = KFold(n_splits=10, random_state = 123)\n",
    "for train, val in kf.split(X_train):\n",
    "    y_pred = bagging.fit(X_train.values[train],y_train.values[train]).predict(X_train.values[val])\n",
    "    score = RMSPE(y_train.values[val], y_pred)\n",
    "    scores_bagging.append(score)"
   ]
  },
  {
   "cell_type": "code",
   "execution_count": 37,
   "metadata": {
    "collapsed": false
   },
   "outputs": [
    {
     "data": {
      "text/plain": [
       "[0.1277268443009138,\n",
       " 0.13947990193964363,\n",
       " 0.14157442327621714,\n",
       " 0.14606485600629268,\n",
       " 0.15231767809591987,\n",
       " 0.13340250190681016,\n",
       " 0.15228702324286142,\n",
       " 0.14577111917408386,\n",
       " 0.1297817287755317,\n",
       " 0.1477061954290511]"
      ]
     },
     "execution_count": 37,
     "metadata": {},
     "output_type": "execute_result"
    }
   ],
   "source": [
    "scores_bagging"
   ]
  },
  {
   "cell_type": "code",
   "execution_count": 76,
   "metadata": {
    "collapsed": true
   },
   "outputs": [],
   "source": [
    "y_pred_bagging = bagging.fit(X_train,y_train).predict(X_test)\n"
   ]
  },
  {
   "cell_type": "code",
   "execution_count": 77,
   "metadata": {
    "collapsed": false
   },
   "outputs": [
    {
     "data": {
      "text/plain": [
       "0.13896194068956422"
      ]
     },
     "execution_count": 77,
     "metadata": {},
     "output_type": "execute_result"
    }
   ],
   "source": [
    "RMSPE(y_test, y_pred_bagging)"
   ]
  },
  {
   "cell_type": "markdown",
   "metadata": {},
   "source": [
    "# RMSE"
   ]
  },
  {
   "cell_type": "code",
   "execution_count": 78,
   "metadata": {
    "collapsed": false
   },
   "outputs": [
    {
     "data": {
      "text/plain": [
       "513142.82676140062"
      ]
     },
     "execution_count": 78,
     "metadata": {},
     "output_type": "execute_result"
    }
   ],
   "source": [
    "from sklearn.metrics import mean_squared_error\n",
    "# Bagging\n",
    "mean_squared_error(y_test, y_pred_bagging)"
   ]
  },
  {
   "cell_type": "code",
   "execution_count": 81,
   "metadata": {
    "collapsed": false
   },
   "outputs": [
    {
     "data": {
      "text/plain": [
       "716.3398821519019"
      ]
     },
     "execution_count": 81,
     "metadata": {},
     "output_type": "execute_result"
    }
   ],
   "source": [
    "RMSE_bagging = math.sqrt(mean_squared_error(y_test, y_pred_bagging)) \n",
    "RMSE_bagging"
   ]
  },
  {
   "cell_type": "markdown",
   "metadata": {},
   "source": [
    "## RandomForestRegressor"
   ]
  },
  {
   "cell_type": "code",
   "execution_count": 39,
   "metadata": {
    "collapsed": true
   },
   "outputs": [],
   "source": [
    "scores_rfr = []\n",
    "\n",
    "clf = RandomForestRegressor(n_estimators=50, n_jobs=-1)\n",
    "for train, val in kf.split(X_train):\n",
    "    y_pred = clf.fit(X_train.values[train],y_train.values[train]).predict(X_train.values[val])\n",
    "    score = RMSPE(y_train.values[val], y_pred)\n",
    "    scores_rfr.append(score)"
   ]
  },
  {
   "cell_type": "code",
   "execution_count": 40,
   "metadata": {
    "collapsed": false,
    "scrolled": true
   },
   "outputs": [
    {
     "data": {
      "text/plain": [
       "[0.0005335710423515703,\n",
       " 0.0003628691306796499,\n",
       " 0.0013412767599280762,\n",
       " 0.000623301872237829,\n",
       " 0.0010583269537309207,\n",
       " 0.000528191050146306,\n",
       " 0.0007489124858703985,\n",
       " 0.0005091152106342747,\n",
       " 0.0024093770140874663,\n",
       " 0.0005009612936475674]"
      ]
     },
     "execution_count": 40,
     "metadata": {},
     "output_type": "execute_result"
    }
   ],
   "source": [
    "scores_rfr"
   ]
  },
  {
   "cell_type": "code",
   "execution_count": 79,
   "metadata": {
    "collapsed": true
   },
   "outputs": [],
   "source": [
    "y_pred_clf = clf.fit(X_train,y_train).predict(X_test)\n"
   ]
  },
  {
   "cell_type": "code",
   "execution_count": 82,
   "metadata": {
    "collapsed": false
   },
   "outputs": [
    {
     "data": {
      "text/plain": [
       "0.0006436375614861437"
      ]
     },
     "execution_count": 82,
     "metadata": {},
     "output_type": "execute_result"
    }
   ],
   "source": [
    "RMSPE(y_test, y_pred_clf)"
   ]
  },
  {
   "cell_type": "markdown",
   "metadata": {},
   "source": [
    "# RMSE"
   ]
  },
  {
   "cell_type": "code",
   "execution_count": 83,
   "metadata": {
    "collapsed": false
   },
   "outputs": [
    {
     "data": {
      "text/plain": [
       "102.15833068388137"
      ]
     },
     "execution_count": 83,
     "metadata": {},
     "output_type": "execute_result"
    }
   ],
   "source": [
    "mean_squared_error(y_test, y_pred_clf)"
   ]
  },
  {
   "cell_type": "code",
   "execution_count": 86,
   "metadata": {
    "collapsed": false
   },
   "outputs": [
    {
     "data": {
      "text/plain": [
       "10.10734043573686"
      ]
     },
     "execution_count": 86,
     "metadata": {},
     "output_type": "execute_result"
    }
   ],
   "source": [
    "RMSE_clf = math.sqrt(mean_squared_error(y_test, y_pred_clf)) \n",
    "RMSE_clf"
   ]
  },
  {
   "cell_type": "markdown",
   "metadata": {},
   "source": [
    "## AdaBoostRegressor"
   ]
  },
  {
   "cell_type": "code",
   "execution_count": 26,
   "metadata": {
    "collapsed": false,
    "scrolled": true
   },
   "outputs": [],
   "source": [
    "abr = AdaBoostRegressor(n_estimators=200, learning_rate=0.05, loss='linear')"
   ]
  },
  {
   "cell_type": "code",
   "execution_count": 27,
   "metadata": {
    "collapsed": false,
    "scrolled": false
   },
   "outputs": [],
   "source": [
    "scores_abr = []\n",
    "for train, val in kf.split(X_train):\n",
    "    y_pred = abr.fit(X_train.values[train],y_train.values[train]).predict(X_train.values[val])\n",
    "    score = RMSPE(y_train.values[val], y_pred)\n",
    "    scores_abr.append(score)"
   ]
  },
  {
   "cell_type": "code",
   "execution_count": 28,
   "metadata": {
    "collapsed": false
   },
   "outputs": [
    {
     "data": {
      "text/plain": [
       "[0.17895326358496402,\n",
       " 0.17941412285013056,\n",
       " 0.17711303721986568,\n",
       " 0.17622319690473906,\n",
       " 0.17873177983058294,\n",
       " 0.18402425671365913,\n",
       " 0.17999405085525444,\n",
       " 0.18379381286815602,\n",
       " 0.1723483361196048,\n",
       " 0.17946095202663803]"
      ]
     },
     "execution_count": 28,
     "metadata": {},
     "output_type": "execute_result"
    }
   ],
   "source": [
    "scores_abr"
   ]
  },
  {
   "cell_type": "code",
   "execution_count": 87,
   "metadata": {
    "collapsed": true
   },
   "outputs": [],
   "source": [
    "y_pred_abr = abr.fit(X_train,y_train).predict(X_test)\n"
   ]
  },
  {
   "cell_type": "code",
   "execution_count": 88,
   "metadata": {
    "collapsed": false,
    "scrolled": true
   },
   "outputs": [
    {
     "data": {
      "text/plain": [
       "0.1797036746805002"
      ]
     },
     "execution_count": 88,
     "metadata": {},
     "output_type": "execute_result"
    }
   ],
   "source": [
    "RMSPE(y_test, y_pred_abr)"
   ]
  },
  {
   "cell_type": "markdown",
   "metadata": {},
   "source": [
    "# RMSE"
   ]
  },
  {
   "cell_type": "code",
   "execution_count": 90,
   "metadata": {
    "collapsed": false
   },
   "outputs": [
    {
     "data": {
      "text/plain": [
       "453.36910994009463"
      ]
     },
     "execution_count": 90,
     "metadata": {},
     "output_type": "execute_result"
    }
   ],
   "source": [
    "RMSE_abr = math.sqrt(mean_squared_error(y_test, y_pred_abr)) \n",
    "RMSE_abr"
   ]
  },
  {
   "cell_type": "markdown",
   "metadata": {},
   "source": [
    "## XGBoost"
   ]
  },
  {
   "cell_type": "code",
   "execution_count": 29,
   "metadata": {
    "collapsed": true
   },
   "outputs": [],
   "source": [
    "est=xgb.XGBRegressor(colsample_bytree=0.4, gamma=0.045, learning_rate=0.1, max_depth=20,\n",
    "                     min_child_weight=1.5, n_estimators=100,  \n",
    "                     reg_alpha=0.65, reg_lambda=0.45, subsample=0.8)"
   ]
  },
  {
   "cell_type": "code",
   "execution_count": 30,
   "metadata": {
    "collapsed": false,
    "scrolled": true
   },
   "outputs": [],
   "source": [
    "scores_xgb = []\n",
    "for train, val in kf.split(X_train):\n",
    "    y_pred = est.fit(X_train.values[train],y_train.values[train]).predict(X_train.values[val])\n",
    "    score = RMSPE(y_train.values[val], y_pred)\n",
    "    scores_xgb.append(score)"
   ]
  },
  {
   "cell_type": "code",
   "execution_count": 31,
   "metadata": {
    "collapsed": false,
    "scrolled": true
   },
   "outputs": [
    {
     "data": {
      "text/plain": [
       "[0.04888159248196277,\n",
       " 0.05148439296235607,\n",
       " 0.056613174204005585,\n",
       " 0.05877355559358461,\n",
       " 0.052883456532074,\n",
       " 0.027985268964812623,\n",
       " 0.026307564118353763,\n",
       " 0.039356813559215977,\n",
       " 0.027523143147634602,\n",
       " 0.031940571357153336]"
      ]
     },
     "execution_count": 31,
     "metadata": {},
     "output_type": "execute_result"
    }
   ],
   "source": [
    "scores_xgb"
   ]
  },
  {
   "cell_type": "code",
   "execution_count": 95,
   "metadata": {
    "collapsed": false
   },
   "outputs": [],
   "source": [
    "y_pred_est = est.fit(X_train,y_train).predict(X_test)\n"
   ]
  },
  {
   "cell_type": "code",
   "execution_count": 96,
   "metadata": {
    "collapsed": false
   },
   "outputs": [
    {
     "data": {
      "text/plain": [
       "0.005455852563364049"
      ]
     },
     "execution_count": 96,
     "metadata": {},
     "output_type": "execute_result"
    }
   ],
   "source": [
    "RMSPE(y_test, y_pred_est)"
   ]
  },
  {
   "cell_type": "markdown",
   "metadata": {},
   "source": [
    "# RMSE"
   ]
  },
  {
   "cell_type": "code",
   "execution_count": 97,
   "metadata": {
    "collapsed": false
   },
   "outputs": [
    {
     "data": {
      "text/plain": [
       "25.51310903717584"
      ]
     },
     "execution_count": 97,
     "metadata": {},
     "output_type": "execute_result"
    }
   ],
   "source": [
    "RMSE_est = math.sqrt(mean_squared_error(y_test, y_pred_est)) \n",
    "RMSE_est"
   ]
  },
  {
   "cell_type": "markdown",
   "metadata": {
    "collapsed": false
   },
   "source": [
    "## Plot Model performance over each iteration"
   ]
  },
  {
   "cell_type": "code",
   "execution_count": 41,
   "metadata": {
    "collapsed": false
   },
   "outputs": [],
   "source": [
    "scores_summary = pd.DataFrame({'Bagging':scores_bagging,'AdaBoost':scores_abr,\n",
    "                              'RandomForest':scores_rfr, 'GrandientBoost':scores_xgb})"
   ]
  },
  {
   "cell_type": "code",
   "execution_count": 43,
   "metadata": {
    "collapsed": false,
    "scrolled": true
   },
   "outputs": [],
   "source": [
    "# scores_summary['BaseLine'] = scores_bl\n",
    "# scores_summary"
   ]
  },
  {
   "cell_type": "code",
   "execution_count": 45,
   "metadata": {
    "collapsed": false,
    "scrolled": true
   },
   "outputs": [
    {
     "data": {
      "image/png": "[encoded data removed]",
      "text/plain": [
       "<matplotlib.figure.Figure at 0x1124986d8>"
      ]
     },
     "metadata": {},
     "output_type": "display_data"
    }
   ],
   "source": [
    "scores_summary.plot(figsize = (16,9))\n",
    "plt.xlabel('Iteration')\n",
    "plt.ylabel('RMSPE')\n",
    "plt.title('Model Performances over iterations (evaluated in RMSPE)')\n",
    "plt.savefig('/Users/admin/Desktop/ModelPerformanceoverIterations.png')"
   ]
  },
  {
   "cell_type": "code",
   "execution_count": 48,
   "metadata": {
    "collapsed": false
   },
   "outputs": [],
   "source": [
    "xgb_params = {\"objective\": \"reg:linear\", \"eta\": 0.01, \"max_depth\": 10, \"seed\": 42, \"silent\": 1,\n",
    "             'colsample_bytree':0.9, 'gamma':0.3,  'min_child_weight':4,\n",
    "                     'reg_alpha':0.65, 'reg_lambda':5, 'subsample':0.9}\n",
    "num_rounds = 1000\n",
    "\n",
    "dtrain = xgb.DMatrix(X_train, label=y_train)\n",
    "gbdt = xgb.train(xgb_params, dtrain, num_rounds)"
   ]
  },
  {
   "cell_type": "code",
   "execution_count": 50,
   "metadata": {
    "collapsed": false
   },
   "outputs": [
    {
     "data": {
      "text/plain": [
       "<matplotlib.figure.Figure at 0x1143e4748>"
      ]
     },
     "metadata": {},
     "output_type": "display_data"
    },
    {
     "data": {
      "image/png": "[encoded data removed]",
      "text/plain": [
       "<matplotlib.figure.Figure at 0x117389940>"
      ]
     },
     "metadata": {},
     "output_type": "display_data"
    }
   ],
   "source": [
    "importance = gbdt.get_score(importance_type='weight')\n",
    "importance = sorted(importance.items(), key = lambda x:x[1], reverse = True)\n",
    "df = pd.DataFrame(importance, columns=['feature', 'fscore']).sort_values(by = 'fscore')\n",
    "df['fscore'] = df['fscore'] / df['fscore'].sum()\n",
    "\n",
    "plt.figure()\n",
    "df[-15:].plot(kind='barh', x='feature', y='fscore', legend=False, figsize=(18, 11))\n",
    "plt.title('XGBoost Feature Importance (measured by the average gain of the feature when it is used in trees)')\n",
    "plt.xlabel('relative importance')\n",
    "plt.savefig('/Users/admin/Desktop/BIA652_FeatureImportance_weight.png')"
   ]
  },
  {
   "cell_type": "code",
   "execution_count": null,
   "metadata": {
    "collapsed": true
   },
   "outputs": [],
   "source": []
  }
 ],
 "metadata": {
  "kernelspec": {
   "display_name": "Python 3",
   "language": "python",
   "name": "python3"
  },
  "language_info": {
   "codemirror_mode": {
    "name": "ipython",
    "version": 3
   },
   "file_extension": ".py",
   "mimetype": "text/x-python",
   "name": "python",
   "nbconvert_exporter": "python",
   "pygments_lexer": "ipython3",
   "version": "3.6.0"
  }
 },
 "nbformat": 4,
 "nbformat_minor": 2
}
